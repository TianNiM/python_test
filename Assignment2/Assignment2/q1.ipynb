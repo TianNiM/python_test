{
 "cells": [
  {
   "cell_type": "markdown",
   "metadata": {},
   "source": [
    "# Question 1\n",
    "- Use ’glob’ to open and read file. If read multiple files use LOOP to achieve.\n",
    "- Create at least one function and one lambda function.\n",
    "- Save your data as an CSV file contains (Word, Rank, Frequency) with TITLE and Sort it by RANK. \n",
    "- Open your CSV file,   generate a log-log figure according to the data you saved.\n",
    "- Write a conclusion at the end of your code base on your figure.\n",
    "- (Optional) Use ‘matplotlib’ to generate a log-log figure in your code."
   ]
  },
  {
   "cell_type": "code",
   "execution_count": 5,
   "metadata": {
    "collapsed": false
   },
   "outputs": [
    {
     "data": {
      "text/plain": [
       "['1789-Washington.txt',\n",
       " '1793-Washington.txt',\n",
       " '1797-Adams.txt',\n",
       " '1801-Jefferson.txt',\n",
       " '1805-Jefferson.txt']"
      ]
     },
     "execution_count": 5,
     "metadata": {},
     "output_type": "execute_result"
    }
   ],
   "source": [
    "import nltk\n",
    "from nltk.corpus import inaugural\n",
    "inaugural.fileids()[0:5]"
   ]
  },
  {
   "cell_type": "code",
   "execution_count": 6,
   "metadata": {
    "collapsed": true
   },
   "outputs": [],
   "source": [
    "def read_words(filename):\n",
    "    open_file=open(filename,encoding = \"ISO-8859-1\")\n",
    "    words_list =[]\n",
    "    contents = open_file.readlines()\n",
    "    for i in range(len(contents)):\n",
    "         words_list.extend(contents[i].split())\n",
    "    return words_list    \n",
    "    open_file.close()  "
   ]
  },
  {
   "cell_type": "code",
   "execution_count": 7,
   "metadata": {
    "collapsed": false
   },
   "outputs": [],
   "source": [
    "##get all words from inaugural files, and turn them into lowercase, also remove the punctuation and space from list.\n",
    "import glob\n",
    "import string\n",
    "wordlist=[]\n",
    "##\"/Users/yutian/nltk_data/corpora/inaugural/*.txt\"\n",
    "for file in glob.glob(\"inaugural/*.txt\"):\n",
    "    list_word=read_words(file) \n",
    "    wordlist.extend(list_word)\n",
    "\n",
    "wordlist=list(map(lambda x: x.lower(),wordlist))\n",
    "wordlist = [''.join(c for c in s if c not in string.punctuation) for s in wordlist]\n",
    "wordlist = [s for s in wordlist if s]"
   ]
  },
  {
   "cell_type": "code",
   "execution_count": 8,
   "metadata": {
    "collapsed": false
   },
   "outputs": [],
   "source": [
    "##count words frequency in list\n",
    "import operator\n",
    "from collections import Counter\n",
    "counts=Counter(wordlist)"
   ]
  },
  {
   "cell_type": "code",
   "execution_count": 9,
   "metadata": {
    "collapsed": false
   },
   "outputs": [],
   "source": [
    "##original csv file\n",
    "import csv\n",
    "\n",
    "with open('mycsvfile.csv', 'w') as f: \n",
    "    w = csv.writer(f)\n",
    "##    w.writerow(['rank', 'word', 'frenquency'])\n",
    "    w.writerows(counts.items())"
   ]
  },
  {
   "cell_type": "code",
   "execution_count": 13,
   "metadata": {
    "collapsed": false
   },
   "outputs": [],
   "source": [
    "##sorted csv file\n",
    "import sys, csv , operator,math  \n",
    "data = csv.reader(open('mycsvfile.csv'),delimiter=',')\n",
    "\n",
    "\n",
    "\n",
    "sortedlist = sorted(data,reverse=True, key = lambda x:  int(x[1]))  \n",
    "\n",
    "\n",
    "with open('sorted_mycsvfile.csv', \"w\") as f:  \n",
    "    ##fileWriter = csv.writer(f, delimiter=',') \n",
    "    filewriter = csv.DictWriter(f, fieldnames = [\"rank\",\"word\",\"frequency\"])\n",
    "    filewriter.writeheader()\n",
    "    rank=1\n",
    "    for item in sortedlist: \n",
    "        filewriter.writerow({'rank':str(rank),'word':item[0],'frequency':str(item[1])})\n",
    "        rank+=1\n",
    "##f.close()  "
   ]
  },
  {
   "cell_type": "code",
   "execution_count": 14,
   "metadata": {
    "collapsed": false
   },
   "outputs": [],
   "source": [
    "##draw plot\n",
    "from matplotlib import pyplot as plt\n",
    "from csv import reader\n",
    "import math\n"
   ]
  },
  {
   "cell_type": "code",
   "execution_count": 15,
   "metadata": {
    "collapsed": false
   },
   "outputs": [
    {
     "ename": "SyntaxError",
     "evalue": "invalid syntax (<ipython-input-15-c34503d685d2>, line 10)",
     "output_type": "error",
     "traceback": [
      "\u001b[0;36m  File \u001b[0;32m\"<ipython-input-15-c34503d685d2>\"\u001b[0;36m, line \u001b[0;32m10\u001b[0m\n\u001b[0;31m    plt.show()\u001b[0m\n\u001b[0m      ^\u001b[0m\n\u001b[0;31mSyntaxError\u001b[0m\u001b[0;31m:\u001b[0m invalid syntax\n"
     ]
    }
   ],
   "source": [
    "##DRAW PLOT \n",
    "with open('sorted_mycsvfile.csv', 'r') as f:\n",
    "    data = list(reader(f))\n",
    "    ##temp = [i[3] for i in data[1::]]\n",
    "    ##time = [parser.parse(i[19]) for i in data[1::]]\n",
    "    rank=[i[0] for i in data[1::]]\n",
    "    freq=[i[2] for i in data[1::]]\n",
    "##    pyplot.plot(time, temp)\n",
    "##    pyplot.show()\n",
    "    plt.plot(math.log(float(rank)),math.log(float(freq))\n",
    "    plt.show()\n",
    "    "
   ]
  },
  {
   "cell_type": "code",
   "execution_count": null,
   "metadata": {
    "collapsed": true
   },
   "outputs": [],
   "source": [
    "##coclusion:\n",
    "##i pick up two inaugural files to test, according to zipf's, r * freq = A * N, so after use log to both side\n",
    "##log(rank*frequency)=log(a*n), the plot should like y=k+logn, according to my plot , it proved , also i draw a conclusion\n",
    "##that the constant in zipf's should less than 1."
   ]
  },
  {
   "cell_type": "code",
   "execution_count": null,
   "metadata": {
    "collapsed": true
   },
   "outputs": [],
   "source": []
  }
 ],
 "metadata": {
  "anaconda-cloud": {},
  "kernelspec": {
   "display_name": "Python [conda root]",
   "language": "python",
   "name": "conda-root-py"
  },
  "language_info": {
   "codemirror_mode": {
    "name": "ipython",
    "version": 3
   },
   "file_extension": ".py",
   "mimetype": "text/x-python",
   "name": "python",
   "nbconvert_exporter": "python",
   "pygments_lexer": "ipython3",
   "version": "3.5.2"
  }
 },
 "nbformat": 4,
 "nbformat_minor": 1
}
