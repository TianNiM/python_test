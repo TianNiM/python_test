{
 "cells": [
  {
   "cell_type": "markdown",
   "metadata": {},
   "source": [
    "# Question2 part2\n",
    "- Read all the json files in the folder called Data.\n",
    "  Read only the json files which contain the key called “restaurants”\n",
    "  Each (or most of the json files) contain a key called “open” which contains the details of the operation (timings) of the restaurants. For each json file, read the timings of the restaurants.\n",
    "  Data of the operation timings of the restaurants is present for each day of the week. I want you to extract each of this data and write it in an excel sheet.\n",
    "  "
   ]
  },
  {
   "cell_type": "code",
   "execution_count": 1,
   "metadata": {
    "collapsed": true
   },
   "outputs": [],
   "source": [
    "import glob\n",
    "import json\n"
   ]
  },
  {
   "cell_type": "code",
   "execution_count": 14,
   "metadata": {
    "collapsed": false
   },
   "outputs": [],
   "source": [
    "import csv\n",
    "\n",
    "\n",
    "                \n",
    "\n",
    "with open('open_time.csv','w') as f:\n",
    "    writer=csv.DictWriter(f,fieldnames=[\"name\",\"city\",\"code\",\"day of week\",\"start time hour\",\"start time minute\",\n",
    "                                       \"endhour\",\"endminute\"])\n",
    "    writer.writeheader()\n",
    "    for file in glob.glob(\"Data/*.json\"):\n",
    "        with open(file,'r') as readcsv:\n",
    "            data=json.load(readcsv)\n",
    "            term=data['term']\n",
    "            if term=='restaurants' and 'hours' in data:\n",
    "                timeopen=data['hours'][0]['open']\n",
    "                if timeopen:\n",
    "                    name=data['name']\n",
    "                    city=data['location']['city']\n",
    "                    country=data['location']['country']\n",
    "                    for day in timeopen:\n",
    "                        dw=day['day']\n",
    "                        sh=day['start'][:2]\n",
    "                        sm=day['start'][2:]\n",
    "                        eh=day['end'][:2]\n",
    "                        em=day['end'][2:]\n",
    "                        writer.writerow({'name':name,'city':city,'day of week':dw,'start time hour':sh,'start time minute':\n",
    "                                        sm,'endhour':eh,'endminute':em})\n",
    "                        \n",
    "                    \n",
    "                \n",
    "            \n",
    "            \n",
    "            \n",
    "    \n",
    "\n",
    "\n",
    "    \n",
    "                        \n",
    "            \n",
    "            \n",
    "        \n",
    "    "
   ]
  },
  {
   "cell_type": "code",
   "execution_count": null,
   "metadata": {
    "collapsed": true
   },
   "outputs": [],
   "source": []
  }
 ],
 "metadata": {
  "anaconda-cloud": {},
  "kernelspec": {
   "display_name": "Python [conda root]",
   "language": "python",
   "name": "conda-root-py"
  },
  "language_info": {
   "codemirror_mode": {
    "name": "ipython",
    "version": 3
   },
   "file_extension": ".py",
   "mimetype": "text/x-python",
   "name": "python",
   "nbconvert_exporter": "python",
   "pygments_lexer": "ipython3",
   "version": "3.5.2"
  }
 },
 "nbformat": 4,
 "nbformat_minor": 1
}
