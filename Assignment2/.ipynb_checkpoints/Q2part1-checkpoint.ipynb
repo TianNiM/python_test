{
 "cells": [
  {
   "cell_type": "markdown",
   "metadata": {},
   "source": [
    "# Question 2\n",
    "- Read all the json files in the folder called Data.\n",
    "  There are three categories of json files in this folder. They are identified by the key called “term” in each of the  json file.\n",
    "  Create a folder structure to read all these json files and store them into these separate folders. You are expected to create a hierarchy of folder structure.\n",
    "- Read all the json files in the folder called Data\n"
   ]
  },
  {
   "cell_type": "code",
   "execution_count": 2,
   "metadata": {
    "collapsed": true
   },
   "outputs": [],
   "source": [
    "import json\n",
    "import glob\n",
    "\n"
   ]
  },
  {
   "cell_type": "code",
   "execution_count": 19,
   "metadata": {
    "collapsed": false
   },
   "outputs": [],
   "source": [
    "import os\n",
    "import shutil\n",
    "for file in glob.glob('Data/*.json'):\n",
    "    with open(file,'r',encoding='utf-8', errors='ignore') as f:\n",
    "        data=json.load(f)\n",
    "        term=data['term']\n",
    "        country=data['location']['country']\n",
    "        \n",
    "        if not'categories' in data:\n",
    "            path='Data Processed/'+term+'/'+country+'/'+'no categories'+'/'\n",
    "        else:\n",
    "            if data['categories']:\n",
    "                path='Data Processed/'+term+'/'+country+'/'+'empty categories'+'/'\n",
    "            else:\n",
    "                if 'title' in data['categories']:\n",
    "                    ##path='Data Processed/'+term+'/'+country+'/'+'empty title'+'/'\n",
    "                    path='Data Processed/'+term+'/'+country+'/'+data['categories'][0]['title']+'/'\n",
    "                else:\n",
    "                    path='Data Processed/'+term+'/'+country+'/'+'empty title'+'/'\n",
    "            \n",
    "        if not os.path.exists(path):\n",
    "            os.makedirs(path)\n",
    "        shutil.copy(file, path)"
   ]
  },
  {
   "cell_type": "code",
   "execution_count": null,
   "metadata": {
    "collapsed": true
   },
   "outputs": [],
   "source": []
  }
 ],
 "metadata": {
  "anaconda-cloud": {},
  "kernelspec": {
   "display_name": "Python [conda root]",
   "language": "python",
   "name": "conda-root-py"
  },
  "language_info": {
   "codemirror_mode": {
    "name": "ipython",
    "version": 3
   },
   "file_extension": ".py",
   "mimetype": "text/x-python",
   "name": "python",
   "nbconvert_exporter": "python",
   "pygments_lexer": "ipython3",
   "version": "3.5.2"
  }
 },
 "nbformat": 4,
 "nbformat_minor": 1
}
