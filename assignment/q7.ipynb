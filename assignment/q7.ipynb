{
 "cells": [
  {
   "cell_type": "markdown",
   "metadata": {},
   "source": [
    "# Question 7\n",
    "- Use Name corpus, calculate the probability of a name being of a male or female base on the last character(s) of name.\n",
    "- Sample steps:\n",
    "  1.For char ‘a’:\n",
    "\ttotal_names = sum(names ending with ‘a’)\n",
    "\tmale_names = sum(male names ending with ‘a’)\n",
    "\tfemale_names = sum(female names ending with ‘a’)\n",
    "\tProbability of name being male = 100 * male_names / total_names\n",
    "  2.Do this for all characters. \n",
    "- Output must come with proper title (e.g. [a] male: 25%, female: 60%)"
   ]
  },
  {
   "cell_type": "code",
   "execution_count": 2,
   "metadata": {
    "collapsed": false
   },
   "outputs": [
    {
     "data": {
      "text/plain": [
       "['female.txt', 'male.txt']"
      ]
     },
     "execution_count": 2,
     "metadata": {},
     "output_type": "execute_result"
    }
   ],
   "source": [
    "import nltk\n",
    "from nltk.corpus import names\n",
    "names.fileids()"
   ]
  },
  {
   "cell_type": "code",
   "execution_count": 61,
   "metadata": {
    "collapsed": false
   },
   "outputs": [
    {
     "name": "stdout",
     "output_type": "stream",
     "text": [
      "7944\n",
      "male:  {'i': 50, 'g': 32, 'q': 0, 'j': 3, 'm': 70, 'y': 332, 'o': 165, 'f': 25, 'w': 17, 'u': 12, 'l': 187, 'n': 478, 'c': 25, 'v': 16, 'b': 21, 'd': 228, 'k': 69, 't': 164, 'p': 18, 'a': 29, 'h': 93, 'e': 468, 'z': 11, 'r': 190, 'x': 10, 's': 230}\n",
      "female {'i': 317, 'g': 10, 'q': 0, 'j': 1, 'm': 13, 'y': 461, 'o': 33, 'f': 2, 'w': 5, 'u': 6, 'l': 179, 'n': 386, 'c': 0, 'v': 2, 'b': 9, 'd': 39, 'k': 3, 't': 68, 'p': 2, 'a': 1773, 'h': 105, 'e': 1432, 'z': 4, 'r': 47, 'x': 10, 's': 93}\n",
      "total name:  {'i': 367, 'g': 42, 'q': 0, 'j': 4, 'm': 83, 'y': 793, 'o': 198, 'f': 27, 'w': 22, 'u': 18, 'l': 366, 'n': 864, 'c': 25, 'v': 18, 'b': 30, 'd': 267, 'k': 72, 't': 232, 'p': 20, 'a': 1802, 'h': 198, 'e': 1900, 'z': 15, 'r': 237, 'x': 20, 's': 323}\n"
     ]
    },
    {
     "data": {
      "text/plain": [
       "['i: male:13.623978201634877%, female:86.37602179836512%',\n",
       " 'g: male:76.19047619047619%, female:23.80952380952381%',\n",
       " 'q: male:0%, female:100%',\n",
       " 'j: male:75.0%, female:25.0%',\n",
       " 'm: male:84.33734939759036%, female:15.662650602409641%',\n",
       " 'y: male:41.86633039092055%, female:58.13366960907945%',\n",
       " 'o: male:83.33333333333333%, female:16.66666666666667%',\n",
       " 'f: male:92.5925925925926%, female:7.407407407407405%',\n",
       " 'w: male:77.27272727272727%, female:22.727272727272734%',\n",
       " 'u: male:66.66666666666667%, female:33.33333333333333%',\n",
       " 'l: male:51.09289617486339%, female:48.90710382513661%',\n",
       " 'n: male:55.324074074074076%, female:44.675925925925924%',\n",
       " 'c: male:100.0%, female:0.0%',\n",
       " 'v: male:88.88888888888889%, female:11.111111111111114%',\n",
       " 'b: male:70.0%, female:30.0%',\n",
       " 'd: male:85.3932584269663%, female:14.606741573033702%',\n",
       " 'k: male:95.83333333333333%, female:4.166666666666671%',\n",
       " 't: male:70.6896551724138%, female:29.310344827586206%',\n",
       " 'p: male:90.0%, female:10.0%',\n",
       " 'a: male:1.609322974472808%, female:98.3906770255272%',\n",
       " 'h: male:46.96969696969697%, female:53.03030303030303%',\n",
       " 'e: male:24.63157894736842%, female:75.36842105263158%',\n",
       " 'z: male:73.33333333333333%, female:26.66666666666667%',\n",
       " 'r: male:80.16877637130801%, female:19.831223628691987%',\n",
       " 'x: male:50.0%, female:50.0%',\n",
       " 's: male:71.20743034055728%, female:28.79256965944272%']"
      ]
     },
     "execution_count": 61,
     "metadata": {},
     "output_type": "execute_result"
    }
   ],
   "source": [
    "from string import ascii_lowercase\n",
    "strname=names.words()\n",
    "dman={}\n",
    "dfemale={}\n",
    "d={}\n",
    "d_prob={}\n",
    "##for c in ascii_lowercase:\n",
    "total_names=len(strname)\n",
    "print(total_names)  \n",
    "\n",
    "str_male=names.words('male.txt')\n",
    "str_female=names.words('female.txt')\n",
    "\n",
    "## male distribution\n",
    "for c in ascii_lowercase:\n",
    "    dman[c]=0\n",
    "    for word in str_male:\n",
    "        if word.endswith(c):\n",
    "            dman[c]+=1\n",
    "\n",
    "print('male: ',dman)\n",
    "\n",
    "## female distribution\n",
    "for c in ascii_lowercase:\n",
    "    dfemale[c]=0\n",
    "    for word in str_female:\n",
    "        if word.endswith(c):\n",
    "            dfemale[c]+=1\n",
    "\n",
    "print('female',dfemale)\n",
    "\n",
    "# total name distribution\n",
    "for c in ascii_lowercase:\n",
    "    d[c]=0\n",
    "    for word in strname:\n",
    "        if word.endswith(c):\n",
    "            d[c]+=1\n",
    "print('total name: ',d)  \n",
    "\n",
    "## prob\n",
    "for c in ascii_lowercase:\n",
    "    if c=='q':\n",
    "        d_prob[c]=0\n",
    "    else:    \n",
    "        d_prob[c]=100*dman[c]/d[c]\n",
    "        \n",
    "['{}: male:{}%, female:{}%'.format(k,v,100-v) for k,v in d_prob.items()]\n",
    "        \n",
    "\n",
    "    \n",
    "##print('probability: ',d_prob)\n",
    "\n",
    "    \n",
    "\n",
    "\n",
    "        \n",
    "    "
   ]
  },
  {
   "cell_type": "code",
   "execution_count": null,
   "metadata": {
    "collapsed": true
   },
   "outputs": [],
   "source": []
  }
 ],
 "metadata": {
  "kernelspec": {
   "display_name": "Python [conda root]",
   "language": "python",
   "name": "conda-root-py"
  },
  "language_info": {
   "codemirror_mode": {
    "name": "ipython",
    "version": 3
   },
   "file_extension": ".py",
   "mimetype": "text/x-python",
   "name": "python",
   "nbconvert_exporter": "python",
   "pygments_lexer": "ipython3",
   "version": "3.5.2"
  }
 },
 "nbformat": 4,
 "nbformat_minor": 1
}
