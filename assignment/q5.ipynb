{
 "cells": [
  {
   "cell_type": "markdown",
   "metadata": {},
   "source": [
    "# Question 5\n",
    "- Use Gutenberg and Web_text data. Find out what are the top 5 words that Shakespeare used but we do not use in currently.\n",
    "- Take top 50 words from Shakespeare (all 3 books) and top 50 from Web_text (all the records).\n",
    "- Remove punctuation and stop words.\n",
    "- Remove the words we still use today, and get the unused list. Show the top 5 elements. "
   ]
  },
  {
   "cell_type": "code",
   "execution_count": 4,
   "metadata": {
    "collapsed": false
   },
   "outputs": [
    {
     "data": {
      "text/plain": [
       "['austen-emma.txt',\n",
       " 'austen-persuasion.txt',\n",
       " 'austen-sense.txt',\n",
       " 'bible-kjv.txt',\n",
       " 'blake-poems.txt',\n",
       " 'bryant-stories.txt',\n",
       " 'burgess-busterbrown.txt',\n",
       " 'carroll-alice.txt',\n",
       " 'chesterton-ball.txt',\n",
       " 'chesterton-brown.txt',\n",
       " 'chesterton-thursday.txt',\n",
       " 'edgeworth-parents.txt',\n",
       " 'melville-moby_dick.txt',\n",
       " 'milton-paradise.txt',\n",
       " 'shakespeare-caesar.txt',\n",
       " 'shakespeare-hamlet.txt',\n",
       " 'shakespeare-macbeth.txt',\n",
       " 'whitman-leaves.txt']"
      ]
     },
     "execution_count": 4,
     "metadata": {},
     "output_type": "execute_result"
    }
   ],
   "source": [
    "import nltk\n",
    "nltk.corpus.gutenberg.fileids() "
   ]
  },
  {
   "cell_type": "code",
   "execution_count": 73,
   "metadata": {
    "collapsed": false
   },
   "outputs": [
    {
     "data": {
      "text/plain": [
       "['firefox.txt',\n",
       " 'grail.txt',\n",
       " 'overheard.txt',\n",
       " 'pirates.txt',\n",
       " 'singles.txt',\n",
       " 'wine.txt']"
      ]
     },
     "execution_count": 73,
     "metadata": {},
     "output_type": "execute_result"
    }
   ],
   "source": [
    "import nltk\n",
    "nltk.corpus.webtext.fileids()"
   ]
  },
  {
   "cell_type": "code",
   "execution_count": 95,
   "metadata": {
    "collapsed": false
   },
   "outputs": [
    {
     "name": "stdout",
     "output_type": "stream",
     "text": [
      "['Canel', 'Musical', 'balcony', 'bits', 'Perpetually', '0xd594', 'Indians', 'downloadmanager', 'Seated', 'additions', 'stoppered', 'comedian', 'State', '170', 'Office', '6', 'Art', '2005', 'tilted', 'flees', 'Town', 'couldn', 'counselor', 'ana', 'determined', 'Bellamy', 'expandable', 'freetype', 'Fat', 'PSC', 'Dis', 'LongDesc', 'nnnnniggets', 'matrix', 'escorted', '2', 'safari', 'DoubleClick', 'Eli', 'workshop', 'historian', 'undetermined', 'volatility', 'Violence', 'O', 'unhelpful', 'picture', 'referer', 'food', 'nada']\n"
     ]
    }
   ],
   "source": [
    "##now top 50 words without puncuation\n",
    "import string\n",
    "postsw = nltk.corpus.webtext.words()\n",
    "nowwords=nltk.FreqDist(postsw)\n",
    "nowlist=list(nowwords)\n",
    "nowlist=[''.join(c for c in s if c not in string.punctuation) for s in nowlist]\n",
    "nowlist=[s for s in nowlist if s]\n",
    "print(nowlist[0:50])\n",
    "##print(nowwords.most_common(50))\n",
    "##sorted(nltk.FreqDist(p. for p in posts).keys())##attrib['user']"
   ]
  },
  {
   "cell_type": "code",
   "execution_count": 99,
   "metadata": {
    "collapsed": false
   },
   "outputs": [
    {
     "name": "stdout",
     "output_type": "stream",
     "text": [
      "86333\n",
      "[('haue', 406), ('Ham', 337), ('Brutus', 162), ('Bru', 153), ('selfe', 139)]\n"
     ]
    }
   ],
   "source": [
    "## top 5 words that Shakespeare used but we do not use in currently.\n",
    "import collections\n",
    "from nltk.corpus import gutenberg\n",
    "shakewords=list(gutenberg.words('shakespeare-caesar.txt'))\n",
    "shakewords.extend(list(gutenberg.words('shakespeare-hamlet.txt')))\n",
    "shakewords.extend(list(gutenberg.words('shakespeare-macbeth.txt')))\n",
    "print(len(shakewords))\n",
    "\n",
    "oldwords=nltk.FreqDist(shakewords)\n",
    "nowlist=list(nowwords.keys())\n",
    "for keys in oldwords.keys():\n",
    "    if keys in nowlist:\n",
    "        oldwords[keys]=0\n",
    "print(oldwords.most_common(5))\n",
    "\n",
    "\n",
    "    \n",
    "    "
   ]
  },
  {
   "cell_type": "code",
   "execution_count": 100,
   "metadata": {
    "collapsed": false
   },
   "outputs": [
    {
     "name": "stdout",
     "output_type": "stream",
     "text": [
      "['Reasons', 'intemperance', 'kneele', 'twas', 'Valour', 'Shakespeare', 'Sawce', 'Most', 'franchis', 'Art', 'pine', 'signe', 'Town', 'conuey', 'Hammes', 'Particle', 'seduc', 'readinesse', 'pleasant', 'dreame', 'giuers', 'doublet', 'Villains', 'Payes', 'Imaginings', 'seasons', 'escorted', '2', 'roof', 'nephew', 'ponderous', 'Steward', 'oftentimes', 'enow', 'Dishonor', 'Violence', 'O', 'Hecticke', 'picture', 'rooted', 'greeued', 'halfepeny', 'sticking', 'dupt', 'intrailes', 'arises', 'neither', 'shewne', 'dexterity', 'Crab']\n"
     ]
    }
   ],
   "source": [
    "## top 50 words from Shakespeare (all 3 books)\n",
    "import collections\n",
    "from nltk.corpus import gutenberg\n",
    "shakewords1=list(gutenberg.words('shakespeare-caesar.txt'))\n",
    "shakewords1.extend(list(gutenberg.words('shakespeare-hamlet.txt')))\n",
    "shakewords1.extend(list(gutenberg.words('shakespeare-macbeth.txt')))\n",
    "oldwords1=nltk.FreqDist(shakewords1)\n",
    "\n",
    "oldwords1=[''.join(c for c in s if c not in string.punctuation) for s in oldwords1]\n",
    "oldwords1=[s for s in oldwords1 if s]\n",
    "print(oldwords1[0:50])"
   ]
  },
  {
   "cell_type": "code",
   "execution_count": null,
   "metadata": {
    "collapsed": true
   },
   "outputs": [],
   "source": []
  }
 ],
 "metadata": {
  "kernelspec": {
   "display_name": "Python [conda root]",
   "language": "python",
   "name": "conda-root-py"
  },
  "language_info": {
   "codemirror_mode": {
    "name": "ipython",
    "version": 3
   },
   "file_extension": ".py",
   "mimetype": "text/x-python",
   "name": "python",
   "nbconvert_exporter": "python",
   "pygments_lexer": "ipython3",
   "version": "3.5.2"
  }
 },
 "nbformat": 4,
 "nbformat_minor": 1
}
