{
 "cells": [
  {
   "cell_type": "markdown",
   "metadata": {},
   "source": [
    "# Question 2\n",
    "- Under package Gutenberg get content from file 'melville-moby_dick.txt.' (HINT: Words? Raw?)\n",
    "- Find out frequency of 26 characters. (Turn uppercase into lowercase and count as one character)\n",
    "- List all 26 characters in order base on their frequency. (From most frequent to least frequent)\n",
    "- Try NOT to use FreqDist module."
   ]
  },
  {
   "cell_type": "code",
   "execution_count": 3,
   "metadata": {
    "collapsed": true
   },
   "outputs": [],
   "source": [
    "import nltk"
   ]
  },
  {
   "cell_type": "code",
   "execution_count": 4,
   "metadata": {
    "collapsed": false
   },
   "outputs": [
    {
     "data": {
      "text/plain": [
       "['austen-emma.txt',\n",
       " 'austen-persuasion.txt',\n",
       " 'austen-sense.txt',\n",
       " 'bible-kjv.txt',\n",
       " 'blake-poems.txt',\n",
       " 'bryant-stories.txt',\n",
       " 'burgess-busterbrown.txt',\n",
       " 'carroll-alice.txt',\n",
       " 'chesterton-ball.txt',\n",
       " 'chesterton-brown.txt',\n",
       " 'chesterton-thursday.txt',\n",
       " 'edgeworth-parents.txt',\n",
       " 'melville-moby_dick.txt',\n",
       " 'milton-paradise.txt',\n",
       " 'shakespeare-caesar.txt',\n",
       " 'shakespeare-hamlet.txt',\n",
       " 'shakespeare-macbeth.txt',\n",
       " 'whitman-leaves.txt']"
      ]
     },
     "execution_count": 4,
     "metadata": {},
     "output_type": "execute_result"
    }
   ],
   "source": [
    "nltk.corpus.gutenberg.fileids()"
   ]
  },
  {
   "cell_type": "code",
   "execution_count": 5,
   "metadata": {
    "collapsed": false
   },
   "outputs": [],
   "source": [
    "raw_txt = nltk.corpus.gutenberg.raw('melville-moby_dick.txt')\n",
    "##print(raw_txt)"
   ]
  },
  {
   "cell_type": "code",
   "execution_count": 6,
   "metadata": {
    "collapsed": false
   },
   "outputs": [
    {
     "name": "stdout",
     "output_type": "stream",
     "text": [
      "['[', 'Moby', 'Dick', 'by', 'Herman', 'Melville', ...]\n"
     ]
    }
   ],
   "source": [
    "word_txt = nltk.corpus.gutenberg.words('melville-moby_dick.txt')\n",
    "print(word_txt)"
   ]
  },
  {
   "cell_type": "code",
   "execution_count": null,
   "metadata": {
    "collapsed": true
   },
   "outputs": [],
   "source": [
    "##use raw_txt"
   ]
  },
  {
   "cell_type": "code",
   "execution_count": 7,
   "metadata": {
    "collapsed": false
   },
   "outputs": [
    {
     "name": "stdout",
     "output_type": "stream",
     "text": [
      "<class 'str'>\n"
     ]
    }
   ],
   "source": [
    "print(type(raw_txt))"
   ]
  },
  {
   "cell_type": "code",
   "execution_count": 8,
   "metadata": {
    "collapsed": false
   },
   "outputs": [],
   "source": [
    "str=raw_txt.replace(\" \",\"\").replace(\"\\r\\n\",\"\")\n",
    "##print(str)"
   ]
  },
  {
   "cell_type": "code",
   "execution_count": 9,
   "metadata": {
    "collapsed": false
   },
   "outputs": [
    {
     "data": {
      "text/plain": [
       "'mobydickbyhermanmel'"
      ]
     },
     "execution_count": 9,
     "metadata": {},
     "output_type": "execute_result"
    }
   ],
   "source": [
    "str.lower()[1:20]"
   ]
  },
  {
   "cell_type": "code",
   "execution_count": 14,
   "metadata": {
    "collapsed": false
   },
   "outputs": [
    {
     "data": {
      "text/plain": [
       "{'!': 1767,\n",
       " '\"': 3071,\n",
       " '$': 2,\n",
       " '&': 2,\n",
       " \"'\": 2922,\n",
       " '(': 215,\n",
       " ')': 215,\n",
       " '*': 45,\n",
       " ',': 19229,\n",
       " '-': 5984,\n",
       " '.': 7558,\n",
       " '0': 131,\n",
       " '1': 142,\n",
       " '2': 60,\n",
       " '3': 47,\n",
       " '4': 39,\n",
       " '5': 55,\n",
       " '6': 37,\n",
       " '7': 53,\n",
       " '8': 59,\n",
       " '9': 35,\n",
       " ':': 196,\n",
       " ';': 4173,\n",
       " '?': 1004,\n",
       " '[': 3,\n",
       " ']': 3,\n",
       " '_': 26,\n",
       " 'a': 75266,\n",
       " 'b': 15451,\n",
       " 'c': 21360,\n",
       " 'd': 37468,\n",
       " 'e': 115855,\n",
       " 'f': 20029,\n",
       " 'g': 20180,\n",
       " 'h': 61434,\n",
       " 'i': 61891,\n",
       " 'j': 829,\n",
       " 'k': 7882,\n",
       " 'l': 41893,\n",
       " 'm': 22525,\n",
       " 'n': 64431,\n",
       " 'o': 68338,\n",
       " 'p': 16207,\n",
       " 'q': 1234,\n",
       " 'r': 51311,\n",
       " 's': 62022,\n",
       " 't': 85539,\n",
       " 'u': 26457,\n",
       " 'v': 8427,\n",
       " 'w': 20917,\n",
       " 'x': 1007,\n",
       " 'y': 16542,\n",
       " 'z': 594}"
      ]
     },
     "execution_count": 14,
     "metadata": {},
     "output_type": "execute_result"
    }
   ],
   "source": [
    "{i:str.count(i) for i in set(str.lower())}"
   ]
  },
  {
   "cell_type": "code",
   "execution_count": null,
   "metadata": {
    "collapsed": true
   },
   "outputs": [],
   "source": []
  }
 ],
 "metadata": {
  "anaconda-cloud": {},
  "kernelspec": {
   "display_name": "Python [conda root]",
   "language": "python",
   "name": "conda-root-py"
  },
  "language_info": {
   "codemirror_mode": {
    "name": "ipython",
    "version": 3
   },
   "file_extension": ".py",
   "mimetype": "text/x-python",
   "name": "python",
   "nbconvert_exporter": "python",
   "pygments_lexer": "ipython3",
   "version": "3.5.2"
  }
 },
 "nbformat": 4,
 "nbformat_minor": 1
}
